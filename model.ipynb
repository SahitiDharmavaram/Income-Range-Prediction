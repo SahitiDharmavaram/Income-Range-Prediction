{
 "cells": [
  {
   "attachments": {},
   "cell_type": "markdown",
   "metadata": {},
   "source": [
    "Hackstory ML"
   ]
  },
  {
   "cell_type": "code",
   "execution_count": 208,
   "metadata": {},
   "outputs": [],
   "source": [
    "import pandas as pd\n",
    "import numpy as np\n",
    "import matplotlib.pyplot as plt \n",
    "from sklearn.model_selection import train_test_split\n",
    "from sklearn.ensemble import RandomForestClassifier\n",
    "from fairlearn.reductions import GridSearch, DemographicParity\n",
    "from sklearn.linear_model import LogisticRegression\n",
    "from sklearn.metrics import accuracy_score\n",
    "from sklearn.preprocessing import LabelEncoder, StandardScaler\n",
    "from imblearn.over_sampling import SMOTE\n",
    "from sklearn.compose import ColumnTransformer\n",
    "from sklearn.preprocessing import OneHotEncoder\n"
   ]
  },
  {
   "cell_type": "code",
   "execution_count": 209,
   "metadata": {},
   "outputs": [],
   "source": [
    "rawdata = pd.read_csv('income_train.csv') "
   ]
  },
  {
   "cell_type": "code",
   "execution_count": 210,
   "metadata": {},
   "outputs": [],
   "source": [
    "rawdata = rawdata.drop(['signature_id', 'capital-gain', 'capital-loss'], axis=1)\n"
   ]
  },
  {
   "cell_type": "code",
   "execution_count": 211,
   "metadata": {},
   "outputs": [],
   "source": [
    "rawdata.replace('?', np.nan, inplace=True)\n",
    "\n",
    "\n",
    "for column in rawdata.columns:\n",
    "    if rawdata[column].isnull().sum() > 0:\n",
    "        if rawdata[column].dtype == 'object':\n",
    "            mode = rawdata[column].mode()[0]\n",
    "            rawdata[column].fillna(mode, inplace=True)\n",
    "        else:\n",
    "            mean = rawdata[column].mean()\n",
    "            rawdata[column].fillna(mean, inplace=True)\n",
    "\n",
    "rawdata.to_csv('updated_dataset.csv', index=False)"
   ]
  },
  {
   "cell_type": "code",
   "execution_count": 212,
   "metadata": {},
   "outputs": [],
   "source": [
    "label_encoder = LabelEncoder()\n",
    "\n",
    "# Encode \"education\" column\n",
    "rawdata['education_encoded'] = label_encoder.fit_transform(rawdata['education']) + 1\n",
    "rawdata.to_csv('updated_dataset.csv', index=False)\n"
   ]
  },
  {
   "cell_type": "code",
   "execution_count": 213,
   "metadata": {},
   "outputs": [
    {
     "name": "stdout",
     "output_type": "stream",
     "text": [
      "Race Distribution:\n",
      "White                 85.425563\n",
      "Black                  9.631471\n",
      "Asian-Pac-Islander     3.112021\n",
      "Amer-Indian-Eskimo     0.956420\n",
      "Other                  0.874525\n",
      "Name: race, dtype: float64\n",
      "\n",
      "Gender Distribution:\n",
      "Male      68.046212\n",
      "Female    31.953788\n",
      "Name: gender, dtype: float64\n",
      "\n",
      "Native Country Distribution:\n",
      "United-States                 91.485815\n",
      "Mexico                         1.956712\n",
      "Philippines                    0.608365\n",
      "Germany                        0.412401\n",
      "Puerto-Rico                    0.386078\n",
      "Canada                         0.353905\n",
      "El-Salvador                    0.324656\n",
      "India                          0.321732\n",
      "Cuba                           0.289558\n",
      "China                          0.266160\n",
      "England                        0.245686\n",
      "South                          0.225212\n",
      "Jamaica                        0.222287\n",
      "Italy                          0.213513\n",
      "Columbia                       0.204738\n",
      "Dominican-Republic             0.201813\n",
      "Poland                         0.198889\n",
      "Guatemala                      0.184264\n",
      "Vietnam                        0.169640\n",
      "Haiti                          0.155016\n",
      "Japan                          0.152091\n",
      "Taiwan                         0.137467\n",
      "Iran                           0.131617\n",
      "Portugal                       0.125768\n",
      "Nicaragua                      0.114068\n",
      "Ecuador                        0.096519\n",
      "Greece                         0.093595\n",
      "Peru                           0.093595\n",
      "France                         0.078970\n",
      "Thailand                       0.070196\n",
      "Ireland                        0.064346\n",
      "Hong                           0.064346\n",
      "Outlying-US(Guam-USVI-etc)     0.052647\n",
      "Trinadad&Tobago                0.049722\n",
      "Cambodia                       0.049722\n",
      "Laos                           0.046797\n",
      "Yugoslavia                     0.043872\n",
      "Hungary                        0.038023\n",
      "Honduras                       0.035098\n",
      "Scotland                       0.032173\n",
      "Holand-Netherlands             0.002925\n",
      "Name: native-country, dtype: float64\n"
     ]
    }
   ],
   "source": [
    "data = pd.read_csv('updated_dataset.csv')\n",
    "\n",
    "# Biases Analysis - Race\n",
    "race_counts = data['race'].value_counts()\n",
    "race_percentages = race_counts / len(data) * 100\n",
    "print(\"Race Distribution:\")\n",
    "print(race_percentages)\n",
    "\n",
    "# Biases Analysis - Gender\n",
    "gender_counts = data['gender'].value_counts()\n",
    "gender_percentages = gender_counts / len(data) * 100\n",
    "print(\"\\nGender Distribution:\")\n",
    "print(gender_percentages)\n",
    "\n",
    "# Biases Analysis - Native Country\n",
    "country_counts = data['native-country'].value_counts()\n",
    "country_percentages = country_counts / len(data) * 100\n",
    "print(\"\\nNative Country Distribution:\")\n",
    "print(country_percentages)"
   ]
  },
  {
   "cell_type": "code",
   "execution_count": 214,
   "metadata": {},
   "outputs": [],
   "source": [
    "data['educational-num'] = pd.to_numeric(data['educational-num'], errors='coerce')\n",
    "\n",
    "average = data['educational-num'].mean()\n",
    "\n",
    "data['educational-num'].fillna(average, inplace=True)\n",
    "data.to_csv('updated_dataset.csv', index=False)"
   ]
  },
  {
   "cell_type": "code",
   "execution_count": 215,
   "metadata": {},
   "outputs": [
    {
     "name": "stdout",
     "output_type": "stream",
     "text": [
      "                age        fnlwgt  educational-num  hours-per-week  \\\n",
      "count  34190.000000  3.419000e+04     34190.000000    34190.000000   \n",
      "mean      38.423252  1.890983e+05        10.064208       40.431325   \n",
      "std       13.693060  1.054741e+05         2.426112       12.369751   \n",
      "min       17.000000  1.228500e+04         1.000000        1.000000   \n",
      "25%       28.000000  1.170412e+05         9.000000       40.000000   \n",
      "50%       37.000000  1.779070e+05        10.000000       40.000000   \n",
      "75%       47.000000  2.368610e+05        11.000000       45.000000   \n",
      "max       90.000000  1.490400e+06        16.000000       99.000000   \n",
      "\n",
      "       education_encoded  \n",
      "count       34190.000000  \n",
      "mean           11.284469  \n",
      "std             3.886682  \n",
      "min             1.000000  \n",
      "25%            10.000000  \n",
      "50%            12.000000  \n",
      "75%            13.000000  \n",
      "max            16.000000  \n"
     ]
    }
   ],
   "source": [
    "print(data.describe())"
   ]
  },
  {
   "cell_type": "code",
   "execution_count": 216,
   "metadata": {},
   "outputs": [
    {
     "data": {
      "image/png": "[encoded data removed]",
      "text/plain": [
       "<Figure size 640x480 with 1 Axes>"
      ]
     },
     "metadata": {},
     "output_type": "display_data"
    }
   ],
   "source": [
    "plt.hist(data['income'], bins=20)\n",
    "plt.xlabel('Income')\n",
    "plt.ylabel('Count')\n",
    "plt.show()\n"
   ]
  },
  {
   "cell_type": "code",
   "execution_count": 217,
   "metadata": {},
   "outputs": [],
   "source": [
    "X = data.drop('income', axis=1)\n",
    "y = data['income']\n",
    "data_encoded = pd.get_dummies(data, columns=['workclass'])"
   ]
  },
  {
   "cell_type": "code",
   "execution_count": 218,
   "metadata": {},
   "outputs": [],
   "source": [
    "X = data.drop('income', axis=1)\n",
    "y = data['income']\n",
    "\n",
    "categorical_cols = ['workclass'] \n",
    "encoder = ColumnTransformer(\n",
    "    [('encoder', OneHotEncoder(sparse_output=False, drop='first'), categorical_cols)],\n",
    "    remainder='passthrough'\n",
    ")\n",
    "X_encoded = pd.DataFrame(encoder.fit_transform(X))\n",
    "X_encoded.columns = encoder.get_feature_names_out()\n",
    "X = X_encoded"
   ]
  },
  {
   "cell_type": "code",
   "execution_count": 219,
   "metadata": {},
   "outputs": [],
   "source": [
    "X = data.drop('income', axis=1)\n",
    "y = data['income']\n",
    "\n",
    "label_encoder = LabelEncoder()\n",
    "for column in X.columns:\n",
    "    if X[column].dtype == 'object':\n",
    "        X[column] = label_encoder.fit_transform(X[column])\n",
    "\n",
    "X_train, X_test, y_train, y_test = train_test_split(X, y, test_size=0.2, random_state=42)\n",
    "\n",
    "smote = SMOTE()\n",
    "X_resampled, y_resampled = smote.fit_resample(X_train, y_train)"
   ]
  },
  {
   "cell_type": "code",
   "execution_count": 220,
   "metadata": {},
   "outputs": [],
   "source": [
    "smote = SMOTE()\n",
    "X_resampled, y_resampled = smote.fit_resample(X, y)"
   ]
  },
  {
   "cell_type": "code",
   "execution_count": 221,
   "metadata": {},
   "outputs": [],
   "source": [
    "X_train, X_test, y_train, y_test = train_test_split(X_resampled, y_resampled, test_size=0.2, random_state=42)"
   ]
  },
  {
   "cell_type": "code",
   "execution_count": 222,
   "metadata": {},
   "outputs": [],
   "source": [
    "X = data.drop(['income'], axis=1)\n",
    "y = data['income']\n",
    "\n",
    "label_encoder = LabelEncoder()\n",
    "X_encoded = X.apply(label_encoder.fit_transform)\n",
    "y_encoded = label_encoder.fit_transform(y)\n",
    "\n",
    "scaler = StandardScaler()\n",
    "X_scaled = scaler.fit_transform(X_encoded)\n",
    "\n",
    "X_train, X_test, y_train, y_test = train_test_split(X_scaled, y_encoded, test_size=0.2, random_state=42)\n",
    "classifier = LogisticRegression(max_iter=1000)\n",
    "classifier.fit(X_train, y_train)\n",
    "\n",
    "constraint = DemographicParity()\n",
    "\n",
    "gender_index = list(X.columns).index('gender')\n",
    "\n",
    "grid_search = GridSearch(classifier, constraint)\n",
    "grid_search.fit(X_train, y_train, sensitive_features=X_train[:, gender_index])\n",
    "\n",
    "y_pred = grid_search.predict(X_test)"
   ]
  },
  {
   "cell_type": "code",
   "execution_count": 223,
   "metadata": {},
   "outputs": [
    {
     "name": "stderr",
     "output_type": "stream",
     "text": [
      "Generating a grid with 10 grid points. It is recommended to use at least 16 grid points. Please consider increasing grid_size.\n"
     ]
    }
   ],
   "source": [
    "X = data.drop(['income'], axis=1)\n",
    "y = data['income']\n",
    "\n",
    "label_encoder = LabelEncoder()\n",
    "X_encoded = X.apply(label_encoder.fit_transform)\n",
    "y_encoded = label_encoder.fit_transform(y)\n",
    "\n",
    "scaler = StandardScaler()\n",
    "X_scaled = scaler.fit_transform(X_encoded)\n",
    "X_train, X_test, y_train, y_test = train_test_split(X_scaled, y_encoded, test_size=0.2, random_state=42)\n",
    "\n",
    "classifier = LogisticRegression(max_iter=1000)\n",
    "classifier.fit(X_train, y_train)\n",
    "\n",
    "constraint = DemographicParity()\n",
    "\n",
    "race_index = list(X.columns).index('race')\n",
    "\n",
    "grid_search = GridSearch(classifier, constraint)\n",
    "grid_search.fit(X_train, y_train, sensitive_features=X_train[:, race_index])\n",
    "\n",
    "y_pred = grid_search.predict(X_test)"
   ]
  },
  {
   "cell_type": "code",
   "execution_count": 224,
   "metadata": {},
   "outputs": [
    {
     "data": {
      "text/html": [
       "<style>#sk-container-id-8 {color: black;background-color: white;}#sk-container-id-8 pre{padding: 0;}#sk-container-id-8 div.sk-toggleable {background-color: white;}#sk-container-id-8 label.sk-toggleable__label {cursor: pointer;display: block;width: 100%;margin-bottom: 0;padding: 0.3em;box-sizing: border-box;text-align: center;}#sk-container-id-8 label.sk-toggleable__label-arrow:before {content: \"▸\";float: left;margin-right: 0.25em;color: #696969;}#sk-container-id-8 label.sk-toggleable__label-arrow:hover:before {color: black;}#sk-container-id-8 div.sk-estimator:hover label.sk-toggleable__label-arrow:before {color: black;}#sk-container-id-8 div.sk-toggleable__content {max-height: 0;max-width: 0;overflow: hidden;text-align: left;background-color: #f0f8ff;}#sk-container-id-8 div.sk-toggleable__content pre {margin: 0.2em;color: black;border-radius: 0.25em;background-color: #f0f8ff;}#sk-container-id-8 input.sk-toggleable__control:checked~div.sk-toggleable__content {max-height: 200px;max-width: 100%;overflow: auto;}#sk-container-id-8 input.sk-toggleable__control:checked~label.sk-toggleable__label-arrow:before {content: \"▾\";}#sk-container-id-8 div.sk-estimator input.sk-toggleable__control:checked~label.sk-toggleable__label {background-color: #d4ebff;}#sk-container-id-8 div.sk-label input.sk-toggleable__control:checked~label.sk-toggleable__label {background-color: #d4ebff;}#sk-container-id-8 input.sk-hidden--visually {border: 0;clip: rect(1px 1px 1px 1px);clip: rect(1px, 1px, 1px, 1px);height: 1px;margin: -1px;overflow: hidden;padding: 0;position: absolute;width: 1px;}#sk-container-id-8 div.sk-estimator {font-family: monospace;background-color: #f0f8ff;border: 1px dotted black;border-radius: 0.25em;box-sizing: border-box;margin-bottom: 0.5em;}#sk-container-id-8 div.sk-estimator:hover {background-color: #d4ebff;}#sk-container-id-8 div.sk-parallel-item::after {content: \"\";width: 100%;border-bottom: 1px solid gray;flex-grow: 1;}#sk-container-id-8 div.sk-label:hover label.sk-toggleable__label {background-color: #d4ebff;}#sk-container-id-8 div.sk-serial::before {content: \"\";position: absolute;border-left: 1px solid gray;box-sizing: border-box;top: 0;bottom: 0;left: 50%;z-index: 0;}#sk-container-id-8 div.sk-serial {display: flex;flex-direction: column;align-items: center;background-color: white;padding-right: 0.2em;padding-left: 0.2em;position: relative;}#sk-container-id-8 div.sk-item {position: relative;z-index: 1;}#sk-container-id-8 div.sk-parallel {display: flex;align-items: stretch;justify-content: center;background-color: white;position: relative;}#sk-container-id-8 div.sk-item::before, #sk-container-id-8 div.sk-parallel-item::before {content: \"\";position: absolute;border-left: 1px solid gray;box-sizing: border-box;top: 0;bottom: 0;left: 50%;z-index: -1;}#sk-container-id-8 div.sk-parallel-item {display: flex;flex-direction: column;z-index: 1;position: relative;background-color: white;}#sk-container-id-8 div.sk-parallel-item:first-child::after {align-self: flex-end;width: 50%;}#sk-container-id-8 div.sk-parallel-item:last-child::after {align-self: flex-start;width: 50%;}#sk-container-id-8 div.sk-parallel-item:only-child::after {width: 0;}#sk-container-id-8 div.sk-dashed-wrapped {border: 1px dashed gray;margin: 0 0.4em 0.5em 0.4em;box-sizing: border-box;padding-bottom: 0.4em;background-color: white;}#sk-container-id-8 div.sk-label label {font-family: monospace;font-weight: bold;display: inline-block;line-height: 1.2em;}#sk-container-id-8 div.sk-label-container {text-align: center;}#sk-container-id-8 div.sk-container {/* jupyter's `normalize.less` sets `[hidden] { display: none; }` but bootstrap.min.css set `[hidden] { display: none !important; }` so we also need the `!important` here to be able to override the default hidden behavior on the sphinx rendered scikit-learn.org. See: https://github.com/scikit-learn/scikit-learn/issues/21755 */display: inline-block !important;position: relative;}#sk-container-id-8 div.sk-text-repr-fallback {display: none;}</style><div id=\"sk-container-id-8\" class=\"sk-top-container\"><div class=\"sk-text-repr-fallback\"><pre>RandomForestClassifier()</pre><b>In a Jupyter environment, please rerun this cell to show the HTML representation or trust the notebook. <br />On GitHub, the HTML representation is unable to render, please try loading this page with nbviewer.org.</b></div><div class=\"sk-container\" hidden><div class=\"sk-item\"><div class=\"sk-estimator sk-toggleable\"><input class=\"sk-toggleable__control sk-hidden--visually\" id=\"sk-estimator-id-8\" type=\"checkbox\" checked><label for=\"sk-estimator-id-8\" class=\"sk-toggleable__label sk-toggleable__label-arrow\">RandomForestClassifier</label><div class=\"sk-toggleable__content\"><pre>RandomForestClassifier()</pre></div></div></div></div></div>"
      ],
      "text/plain": [
       "RandomForestClassifier()"
      ]
     },
     "execution_count": 224,
     "metadata": {},
     "output_type": "execute_result"
    }
   ],
   "source": [
    "model = RandomForestClassifier()\n",
    "model.fit(X_train, y_train)"
   ]
  },
  {
   "cell_type": "code",
   "execution_count": 225,
   "metadata": {},
   "outputs": [],
   "source": [
    "y_pred = model.predict(X_test)"
   ]
  },
  {
   "cell_type": "code",
   "execution_count": 226,
   "metadata": {},
   "outputs": [
    {
     "name": "stdout",
     "output_type": "stream",
     "text": [
      "Accuracy: 82.4949%\n"
     ]
    }
   ],
   "source": [
    "accuracy = accuracy_score(y_test, y_pred)\n",
    "print(f'Accuracy: {accuracy * 100:.4f}%')"
   ]
  },
  {
   "cell_type": "code",
   "execution_count": 227,
   "metadata": {},
   "outputs": [
    {
     "name": "stdout",
     "output_type": "stream",
     "text": [
      "Accuracy considering final weights: 88.5717%\n"
     ]
    }
   ],
   "source": [
    "df = pd.read_csv('updated_dataset.csv')\n",
    "\n",
    "X = df.drop(['income'], axis=1)\n",
    "y = df['income']\n",
    "\n",
    "# Compute weights based on 'fnlwgt'\n",
    "weights = X['fnlwgt'] / X['fnlwgt'].sum()\n",
    "\n",
    "label_encoder = LabelEncoder()\n",
    "for column in X.columns:\n",
    "    if X[column].dtype == 'object':\n",
    "        X[column] = label_encoder.fit_transform(X[column])\n",
    "\n",
    "smote = SMOTE()\n",
    "X_resampled, y_resampled = smote.fit_resample(X, y)\n",
    "sample_weights_resampled, _ = smote.fit_resample(weights.to_frame(), y)\n",
    "\n",
    "X_train, X_test, y_train, y_test = train_test_split(X_resampled, y_resampled, test_size=0.2, random_state=42)\n",
    "sample_weights_train, sample_weights_test = train_test_split(sample_weights_resampled, test_size=0.2, random_state=42)\n",
    "\n",
    "model = RandomForestClassifier()\n",
    "model.fit(X_train, y_train, sample_weight=sample_weights_train.values.ravel())\n",
    "\n",
    "y_pred = model.predict(X_test)\n",
    "\n",
    "accuracy = accuracy_score(y_test, y_pred)\n",
    "print(f'Accuracy considering final weights: {accuracy * 100:.4f}%')"
   ]
  },
  {
   "cell_type": "code",
   "execution_count": 228,
   "metadata": {},
   "outputs": [],
   "source": [
    "import pickle\n",
    "pickle_out = open(\"model.pkl\",\"wb\")\n",
    "pickle.dump(model, pickle_out)\n",
    "pickle_out.close()"
   ]
  }
 ],
 "metadata": {
  "kernelspec": {
   "display_name": "spyder",
   "language": "python",
   "name": "python3"
  },
  "language_info": {
   "codemirror_mode": {
    "name": "ipython",
    "version": 3
   },
   "file_extension": ".py",
   "mimetype": "text/x-python",
   "name": "python",
   "nbconvert_exporter": "python",
   "pygments_lexer": "ipython3",
   "version": "3.8.13"
  },
  "orig_nbformat": 4
 },
 "nbformat": 4,
 "nbformat_minor": 2
}
