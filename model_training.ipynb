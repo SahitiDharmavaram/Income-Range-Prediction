{
 "cells": [
  {
   "attachments": {},
   "cell_type": "markdown",
   "metadata": {},
   "source": [
    "Hackstory ML\n"
   ]
  },
  {
   "cell_type": "code",
   "execution_count": 119,
   "metadata": {},
   "outputs": [],
   "source": [
    "import pandas as pd\n",
    "import numpy as np\n",
    "import matplotlib.pyplot as plt \n",
    "from imblearn.over_sampling import SMOTE\n"
   ]
  },
  {
   "cell_type": "code",
   "execution_count": 120,
   "metadata": {},
   "outputs": [],
   "source": [
    "\n",
    "rawdata = pd.read_csv('income_train.csv')\n"
   ]
  },
  {
   "cell_type": "code",
   "execution_count": 121,
   "metadata": {},
   "outputs": [],
   "source": [
    "rawdata = rawdata.drop(\n",
    "    ['signature_id', 'capital-gain', 'capital-loss'], axis=1)\n"
   ]
  },
  {
   "cell_type": "code",
   "execution_count": 122,
   "metadata": {},
   "outputs": [],
   "source": [
    "rawdata.replace('?', np.nan, inplace=True)\n",
    "\n",
    "for column in rawdata.columns:\n",
    "    if rawdata[column].isnull().sum() > 0:\n",
    "        if rawdata[column].dtype == 'object':\n",
    "            # Replace missing values with mode\n",
    "            mode = rawdata[column].mode()[0]\n",
    "            rawdata[column].fillna(mode, inplace=True)\n",
    "        else:\n",
    "            # Replace missing values with mean\n",
    "            mean = rawdata[column].mean()\n",
    "            rawdata[column].fillna(mean, inplace=True)\n",
    "\n",
    "rawdata.to_csv('updated_dataset.csv', index=False)\n"
   ]
  },
  {
   "cell_type": "code",
   "execution_count": 123,
   "metadata": {},
   "outputs": [
    {
     "name": "stdout",
     "output_type": "stream",
     "text": [
      "Race Distribution:\n",
      "White                 85.425563\n",
      "Black                  9.631471\n",
      "Asian-Pac-Islander     3.112021\n",
      "Amer-Indian-Eskimo     0.956420\n",
      "Other                  0.874525\n",
      "Name: race, dtype: float64\n",
      "\n",
      "Gender Distribution:\n",
      "Male      68.046212\n",
      "Female    31.953788\n",
      "Name: gender, dtype: float64\n",
      "\n",
      "Native Country Distribution:\n",
      "United-States                 91.485815\n",
      "Mexico                         1.956712\n",
      "Philippines                    0.608365\n",
      "Germany                        0.412401\n",
      "Puerto-Rico                    0.386078\n",
      "Canada                         0.353905\n",
      "El-Salvador                    0.324656\n",
      "India                          0.321732\n",
      "Cuba                           0.289558\n",
      "China                          0.266160\n",
      "England                        0.245686\n",
      "South                          0.225212\n",
      "Jamaica                        0.222287\n",
      "Italy                          0.213513\n",
      "Columbia                       0.204738\n",
      "Dominican-Republic             0.201813\n",
      "Poland                         0.198889\n",
      "Guatemala                      0.184264\n",
      "Vietnam                        0.169640\n",
      "Haiti                          0.155016\n",
      "Japan                          0.152091\n",
      "Taiwan                         0.137467\n",
      "Iran                           0.131617\n",
      "Portugal                       0.125768\n",
      "Nicaragua                      0.114068\n",
      "Ecuador                        0.096519\n",
      "Greece                         0.093595\n",
      "Peru                           0.093595\n",
      "France                         0.078970\n",
      "Thailand                       0.070196\n",
      "Ireland                        0.064346\n",
      "Hong                           0.064346\n",
      "Outlying-US(Guam-USVI-etc)     0.052647\n",
      "Trinadad&Tobago                0.049722\n",
      "Cambodia                       0.049722\n",
      "Laos                           0.046797\n",
      "Yugoslavia                     0.043872\n",
      "Hungary                        0.038023\n",
      "Honduras                       0.035098\n",
      "Scotland                       0.032173\n",
      "Holand-Netherlands             0.002925\n",
      "Name: native-country, dtype: float64\n"
     ]
    }
   ],
   "source": [
    "data = pd.read_csv('updated_dataset.csv')\n",
    "\n",
    "# Biases Analysis - Race\n",
    "race_counts = data['race'].value_counts()\n",
    "race_percentages = race_counts / len(data) * 100\n",
    "print(\"Race Distribution:\")\n",
    "print(race_percentages)\n",
    "\n",
    "# Biases Analysis - Gender\n",
    "gender_counts = data['gender'].value_counts()\n",
    "gender_percentages = gender_counts / len(data) * 100\n",
    "print(\"\\nGender Distribution:\")\n",
    "print(gender_percentages)\n",
    "\n",
    "# Biases Analysis - Native Country\n",
    "country_counts = data['native-country'].value_counts()\n",
    "country_percentages = country_counts / len(data) * 100\n",
    "print(\"\\nNative Country Distribution:\")\n",
    "print(country_percentages)\n"
   ]
  },
  {
   "cell_type": "code",
   "execution_count": 130,
   "metadata": {},
   "outputs": [],
   "source": [
    "# Replace letters with NaN\n",
    "data['educational-num'] = pd.to_numeric(\n",
    "    data['educational-num'], errors='coerce')\n",
    "\n",
    "average = data['educational-num'].mean()\n",
    "\n",
    "round_avg = round(average)\n",
    "# Replace NaN values with the average\n",
    "data['educational-num'].fillna(int(round_avg), inplace=True)\n",
    "data.to_csv('updated_dataset.csv', index=False)\n"
   ]
  },
  {
   "cell_type": "code",
   "execution_count": 131,
   "metadata": {},
   "outputs": [],
   "source": [
    "data_updt = pd.read_csv('updated_dataset.csv')\n",
    "\n",
    "threshold = 0.1\n",
    "total_count = len(data_updt)\n",
    "count_threshold = total_count * threshold\n",
    "country_distribution = data_updt['native-country'].value_counts() / total_count\n",
    "rare_categories = country_distribution[country_distribution < threshold].index.tolist()\n",
    "data_updt['native-country'] = data_updt['native-country'].apply(lambda x: 'Other' if x in rare_categories else x)\n",
    "\n",
    "data_updt.to_csv('updated_dataset.csv', index=False)"
   ]
  },
  {
   "cell_type": "code",
   "execution_count": 128,
   "metadata": {},
   "outputs": [
    {
     "data": {
      "image/png": "[encoded data removed]",
      "text/plain": [
       "<Figure size 640x480 with 1 Axes>"
      ]
     },
     "metadata": {},
     "output_type": "display_data"
    }
   ],
   "source": [
    "# Visualize income distribution\n",
    "plt.hist(data['income'], bins=20)\n",
    "plt.xlabel('Income')\n",
    "plt.ylabel('Count')\n",
    "plt.show()\n"
   ]
  },
  {
   "cell_type": "code",
   "execution_count": 129,
   "metadata": {},
   "outputs": [
    {
     "name": "stdout",
     "output_type": "stream",
     "text": [
      "Mapping for column 'workclass':\n",
      "{'Private': 0, 'Self-emp-not-inc': 1, 'Local-gov': 2, 'State-gov': 3, 'Self-emp-inc': 4, 'Federal-gov': 5, 'Without-pay': 6, 'Never-worked': 7}\n",
      "\n",
      "Mapping for column 'education':\n",
      "{'HS-grad': 0, 'Some-college': 1, 'Bachelors': 2, 'Masters': 3, 'Assoc-voc': 4, '11th': 5, 'Assoc-acdm': 6, '10th': 7, '7th-8th': 8, 'Prof-school': 9, '9th': 10, '12th': 11, 'Doctorate': 12, '5th-6th': 13, '1st-4th': 14, 'Preschool': 15}\n",
      "\n",
      "Mapping for column 'educational-num':\n",
      "{'9': 0, '10': 1, '13': 2, '14': 3, '11': 4, '7': 5, '12': 6, '6': 7, '4': 8, '15': 9, '5': 10, '8': 11, '16': 12, '3': 13, '2': 14, 'Z': 15, 'N': 16, 'U': 17, 'X': 18, 'S': 19, 'I': 20, 'P': 21, 'V': 22, 'A': 23, 'D': 24, 'R': 25, 'Q': 26, 'C': 27, 'H': 28, 'G': 29, 'M': 30, 'Y': 31, 'L': 32, 'O': 33, 'K': 34, 'W': 35, 'T': 36, 'F': 37, 'J': 38, 'E': 39, 'B': 40, '1': 41}\n",
      "\n",
      "Mapping for column 'marital-status':\n",
      "{'Married-civ-spouse': 0, 'Never-married': 1, 'Divorced': 2, 'Separated': 3, 'Widowed': 4, 'Married-spouse-absent': 5, 'Married-AF-spouse': 6}\n",
      "\n",
      "Mapping for column 'occupation':\n",
      "{'Craft-repair': 0, 'Prof-specialty': 1, 'Exec-managerial': 2, 'Adm-clerical': 3, 'Sales': 4, 'Other-service': 5, 'Machine-op-inspct': 6, 'Transport-moving': 7, 'Handlers-cleaners': 8, 'Farming-fishing': 9, 'Tech-support': 10, 'Protective-serv': 11, 'Priv-house-serv': 12, 'Armed-Forces': 13}\n",
      "\n",
      "Mapping for column 'relationship':\n",
      "{'Husband': 0, 'Not-in-family': 1, 'Own-child': 2, 'Unmarried': 3, 'Wife': 4, 'Other-relative': 5}\n",
      "\n",
      "Mapping for column 'race':\n",
      "{'White': 0, 'Black': 1, 'Asian-Pac-Islander': 2, 'Amer-Indian-Eskimo': 3, 'Other': 4}\n",
      "\n",
      "Mapping for column 'gender':\n",
      "{'Male': 0, 'Female': 1}\n",
      "\n",
      "Mapping for column 'native-country':\n",
      "{'United-States': 0, 'Other': 1}\n",
      "\n",
      "Mapping for column 'income':\n",
      "{'<=50K': 0, '>50K': 1}\n",
      "\n"
     ]
    }
   ],
   "source": [
    "from sklearn.preprocessing import LabelEncoder\n",
    "\n",
    "data_updt = pd.read_csv('updated_dataset.csv')\n",
    "\n",
    "label_encoder = LabelEncoder()\n",
    "\n",
    "mappings = {}\n",
    "\n",
    "for column in data_updt.columns:\n",
    "    if data_updt[column].dtype == 'object':\n",
    "        value_counts = data_updt[column].value_counts()\n",
    "        sorted_values = value_counts.index.tolist()\n",
    "        encoded_values = label_encoder.fit_transform(sorted_values)\n",
    "\n",
    "        # Mapping dictionary with keys in descending order of frequencies and values in ascending order\n",
    "        mapping = dict(zip(sorted_values, range(len(sorted_values))))\n",
    "        \n",
    "        data_updt[column] = data_updt[column].map(mapping)\n",
    "        mappings[column] = mapping\n",
    "\n",
    "# Save it as a new CSV file\n",
    "data_updt.to_csv('encoded_dataset.csv', index=False)\n",
    "\n",
    "for column, mapping in mappings.items():\n",
    "    print(f\"Mapping for column '{column}':\")\n",
    "    sorted_mapping = {k: v for k, v in sorted(mapping.items(), key=lambda item: item[1])}\n",
    "    print(sorted_mapping)\n",
    "    print()"
   ]
  },
  {
   "cell_type": "code",
   "execution_count": 103,
   "metadata": {},
   "outputs": [
    {
     "name": "stdout",
     "output_type": "stream",
     "text": [
      "Accuracy for the fair model: 75.91%\n"
     ]
    }
   ],
   "source": [
    "from sklearn.metrics import accuracy_score\n",
    "from fairlearn.reductions import ExponentiatedGradient, DemographicParity\n",
    "from sklearn.ensemble import RandomForestClassifier\n",
    "from sklearn.model_selection import train_test_split\n",
    "from sklearn.preprocessing import StandardScaler\n",
    "from sklearn.utils import parallel_backend\n",
    "import pandas as pd\n",
    "\n",
    "bias_data = pd.read_csv('encoded_dataset.csv')\n",
    "\n",
    "X = bias_data.drop(['income'], axis=1)\n",
    "y = bias_data['income']\n",
    "\n",
    "gender_index = list(X.columns).index('gender')\n",
    "race_index = list(X.columns).index('race')\n",
    "\n",
    "scaler = StandardScaler()\n",
    "X_scaled = scaler.fit_transform(X)\n",
    "\n",
    "X_train, X_test, y_train, y_test = train_test_split(X_scaled, y, test_size=0.2, random_state=42)\n",
    "\n",
    "constraint = DemographicParity()\n",
    "\n",
    "classifier = RandomForestClassifier(class_weight='balanced')\n",
    "with parallel_backend('threading'):\n",
    "    unbiased_model = ExponentiatedGradient(classifier, constraint)\n",
    "    unbiased_model.fit(X_train, y_train, sensitive_features=X_train[:, [gender_index, race_index]])\n",
    "\n",
    "y_pred = unbiased_model.predict(X_test)\n",
    "\n",
    "accuracy = accuracy_score(y_test, y_pred)\n",
    "\n",
    "print(f'Accuracy for the fair model: {accuracy * 100:.2f}%')"
   ]
  },
  {
   "cell_type": "code",
   "execution_count": 109,
   "metadata": {},
   "outputs": [
    {
     "name": "stdout",
     "output_type": "stream",
     "text": [
      "Accuracy considering final weights: 88.5809%\n",
      "Income range: >50k\n"
     ]
    }
   ],
   "source": [
    "df = pd.read_csv('encoded_dataset.csv')\n",
    "\n",
    "df['income'].unique()\n",
    "\n",
    "X = df.drop(['income', 'race'], axis=1)\n",
    "y = df['income']\n",
    "\n",
    "# Compute weights based on 'fnlwgt'\n",
    "weights = X['fnlwgt'] / X['fnlwgt'].sum()\n",
    "\n",
    "smote = SMOTE()\n",
    "X_resampled, y_resampled = smote.fit_resample(X, y)\n",
    "sample_weights_resampled, _ = smote.fit_resample(weights.to_frame(), y)\n",
    "\n",
    "X_train, X_test, y_train, y_test = train_test_split(X_resampled, y_resampled, test_size=0.2, random_state=42)\n",
    "sample_weights_train, sample_weights_test = train_test_split(sample_weights_resampled, test_size=0.2, random_state=42)\n",
    "\n",
    "model = RandomForestClassifier(class_weight='balanced')\n",
    "model.fit(X_train, y_train, sample_weight=sample_weights_train.values.ravel())\n",
    "\n",
    "y_pred = model.predict(X_test)\n",
    "\n",
    "accuracy = accuracy_score(y_test, y_pred)\n",
    "print(f'Accuracy considering final weights: {accuracy * 100:.4f}%')\n",
    "\n",
    "classes = {0:'Income lower than 50k', 1:'Income greater than or equal to 50K'}\n",
    "\n",
    "class_labels = list(classes.values())\n",
    "\n",
    "test_input = {\n",
    "    'age': [43],\n",
    "    'workclass': [3],\n",
    "    'fnlwgt': [1],\n",
    "    'education': [15],\n",
    "    'educational-num': [13.0],\n",
    "    'marital-status': [2],\n",
    "    'occupation': [11],\n",
    "    'relationship': [0],\n",
    "    'race': [1],\n",
    "    'gender': [1],\n",
    "    'hours-per-week': [45],\n",
    "    'native-country': [38]\n",
    "}\n",
    "\n",
    "# Converting the test input dictionary to a DataFrame\n",
    "test_df = pd.DataFrame(test_input)\n",
    "\n",
    "predicted_income = model.predict(test_df)\n",
    "\n",
    "if predicted_income == [0]:\n",
    "    print(\"Income rage: <=50k\")\n",
    "elif predicted_income == [1]:\n",
    "    print(\"Income range: >50k\")\n",
    "else:\n",
    "    print(\"Cannot predict\") \n"
   ]
  },
  {
   "cell_type": "code",
   "execution_count": 111,
   "metadata": {},
   "outputs": [
    {
     "name": "stdout",
     "output_type": "stream",
     "text": [
      "Accuracy considering final weights: 88.4891%\n",
      "Income range: <=50k\n"
     ]
    }
   ],
   "source": [
    "df = pd.read_csv('encoded_dataset.csv')\n",
    "\n",
    "X = df.drop(['income'], axis=1)\n",
    "y = df['income']\n",
    "\n",
    "# Compute weights based on 'fnlwgt'\n",
    "weights_fnlwgt = X['fnlwgt'] / X['fnlwgt'].sum()\n",
    "\n",
    "# Calculate weights based on 'gender' column\n",
    "gender_counts = X['gender'].value_counts()\n",
    "total_samples = len(X)\n",
    "weights_gender = total_samples / (2 * gender_counts)\n",
    "\n",
    "weights_combined = []\n",
    "\n",
    "for index, row in X.iterrows():\n",
    "    if row['gender'] == 0:\n",
    "        weight = weights_fnlwgt[index] * weights_gender[0]\n",
    "    elif row['gender'] == 1:\n",
    "        weight = weights_fnlwgt[index] * weights_gender[1]\n",
    "    weights_combined.append(weight)\n",
    "\n",
    "weights_combined = pd.DataFrame(weights_combined, columns=['weights'])\n",
    "\n",
    "scaler = StandardScaler()\n",
    "X_scaled = scaler.fit_transform(X)\n",
    "\n",
    "smote = SMOTE()\n",
    "X_resampled, y_resampled = smote.fit_resample(X, y)\n",
    "sample_weights_resampled, _ = smote.fit_resample(weights_combined, y)\n",
    "\n",
    "X_train, X_test, y_train, y_test = train_test_split(X_resampled, y_resampled, test_size=0.2, random_state=42)\n",
    "sample_weights_train, sample_weights_test = train_test_split(sample_weights_resampled, test_size=0.2, random_state=42)\n",
    "\n",
    "model = RandomForestClassifier(class_weight = 'balanced')\n",
    "model.fit(X_train, y_train, sample_weight=sample_weights_train.values.ravel())\n",
    "\n",
    "y_pred = model.predict(X_test)\n",
    "\n",
    "accuracy = accuracy_score(y_test, y_pred)\n",
    "print(f'Accuracy considering final weights: {accuracy * 100:.4f}%')\n",
    "\n",
    "classes = {0:'Income lower than 50k', 1:'Income greater than or equal to 50K'}\n",
    "\n",
    "class_labels = list(classes.values())\n",
    "\n",
    "test_input = {\n",
    "    'age': [43],\n",
    "    'workclass': [3],\n",
    "    'fnlwgt': [1],\n",
    "    'education': [15],\n",
    "    'educational-num': [13.0],\n",
    "    'marital-status': [2],\n",
    "    'occupation': [11],\n",
    "    'relationship': [0],\n",
    "    'gender': [1],\n",
    "    'hours-per-week': [45],\n",
    "    'native-country': [38]\n",
    "}\n",
    "\n",
    "# Convert the test input dictionary to a DataFrame\n",
    "test_df = pd.DataFrame(test_input)\n",
    "\n",
    "predicted_income = model.predict(test_df)\n",
    "\n",
    "if predicted_income == [0]:\n",
    "    print(\"Income range: <=50k\")\n",
    "elif predicted_income == [1]:\n",
    "    print(\"Income range: >50k\")\n",
    "else:\n",
    "    print(\"Cannot predict\") \n"
   ]
  },
  {
   "cell_type": "code",
   "execution_count": 105,
   "metadata": {},
   "outputs": [],
   "source": [
    "import pickle\n",
    "filename = \"trained_model.sav\"\n",
    "pickle.dump(model, open(filename, 'wb'))"
   ]
  }
 ],
 "metadata": {
  "kernelspec": {
   "display_name": "spyder",
   "language": "python",
   "name": "python3"
  },
  "language_info": {
   "codemirror_mode": {
    "name": "ipython",
    "version": 3
   },
   "file_extension": ".py",
   "mimetype": "text/x-python",
   "name": "python",
   "nbconvert_exporter": "python",
   "pygments_lexer": "ipython3",
   "version": "3.10.9"
  },
  "orig_nbformat": 4
 },
 "nbformat": 4,
 "nbformat_minor": 2
}
